{
 "cells": [
  {
   "cell_type": "code",
   "execution_count": null,
   "id": "1841749d-9e67-4aa5-965f-7c39018b7f0b",
   "metadata": {},
   "outputs": [],
   "source": [
    "Q1. What are the two latest user-defined exception constraints in Python 3.X?"
   ]
  },
  {
   "cell_type": "code",
   "execution_count": null,
   "id": "c801445c-a282-46ff-ba3e-1a0f71e95f75",
   "metadata": {},
   "outputs": [],
   "source": [
    "User-defined exceptions are created to force certain constraints on the values of the variables."
   ]
  },
  {
   "cell_type": "code",
   "execution_count": null,
   "id": "a6f6fa24-7924-4b80-834a-169095320013",
   "metadata": {},
   "outputs": [],
   "source": [
    "TYPES -  IndexError, ImportError and ZeroDivisionError, TypeError."
   ]
  },
  {
   "cell_type": "code",
   "execution_count": null,
   "id": "9903be7a-1a3a-4857-91b9-09cd3b507058",
   "metadata": {},
   "outputs": [],
   "source": [
    "Q2. How are class-based exceptions that have been raised matched to handlers?"
   ]
  },
  {
   "cell_type": "code",
   "execution_count": null,
   "id": "b962c14b-3a4b-4362-8775-2e5e1ce39ce9",
   "metadata": {},
   "outputs": [],
   "source": [
    "Class-based exceptions are either raised by the ABAP statement RAISE EXCEPTION or by the ABAP runtime environment. "
   ]
  },
  {
   "cell_type": "code",
   "execution_count": null,
   "id": "42daf1de-1d77-4790-bd6b-31266080000a",
   "metadata": {},
   "outputs": [],
   "source": [
    "Q3. Describe two methods for attaching context information to exception artefacts."
   ]
  },
  {
   "cell_type": "code",
   "execution_count": null,
   "id": "2d516b56-5013-41db-87e8-3910c5cc0e9f",
   "metadata": {},
   "outputs": [],
   "source": [
    "By specify the exceptions as a tuple within the except statement."
   ]
  },
  {
   "cell_type": "code",
   "execution_count": null,
   "id": "e18673c4-5cd2-4eef-94e3-e10b5b7aa532",
   "metadata": {},
   "outputs": [],
   "source": [
    "Q4. Describe two methods for specifying the text of an exception objects error message."
   ]
  },
  {
   "cell_type": "code",
   "execution_count": null,
   "id": "2cd10011-b90b-4e86-9d14-8514a4ff823a",
   "metadata": {},
   "outputs": [],
   "source": [
    "The type of error before the colon, and specifics about the error after the colon."
   ]
  },
  {
   "cell_type": "code",
   "execution_count": null,
   "id": "49699e10-3d3c-4329-ba8f-31cb289f60fc",
   "metadata": {},
   "outputs": [],
   "source": [
    "Missing colon at the end of a def , if , or for statement."
   ]
  },
  {
   "cell_type": "code",
   "execution_count": null,
   "id": "2baff341-eecc-4411-8d5a-af3058d4f3e1",
   "metadata": {},
   "outputs": [],
   "source": [
    "Q5. Why do you no longer use string-based exceptions?"
   ]
  },
  {
   "cell_type": "code",
   "execution_count": null,
   "id": "15066971-e45d-47cc-a628-58ed9ff5d928",
   "metadata": {},
   "outputs": [],
   "source": [
    "The first error will always be caught and the program will exit the try block, preventing the second error from being detected."
   ]
  },
  {
   "cell_type": "code",
   "execution_count": null,
   "id": "7e828f1e-31be-4fb1-a999-d7ca24f7988c",
   "metadata": {},
   "outputs": [],
   "source": []
  }
 ],
 "metadata": {
  "kernelspec": {
   "display_name": "Python 3 (ipykernel)",
   "language": "python",
   "name": "python3"
  },
  "language_info": {
   "codemirror_mode": {
    "name": "ipython",
    "version": 3
   },
   "file_extension": ".py",
   "mimetype": "text/x-python",
   "name": "python",
   "nbconvert_exporter": "python",
   "pygments_lexer": "ipython3",
   "version": "3.10.6"
  }
 },
 "nbformat": 4,
 "nbformat_minor": 5
}
